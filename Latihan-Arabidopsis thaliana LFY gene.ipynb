{
 "cells": [
  {
   "cell_type": "code",
   "execution_count": 1,
   "id": "0ac1dceb-a13b-4079-a409-997a734748cb",
   "metadata": {},
   "outputs": [
    {
     "name": "stdout",
     "output_type": "stream",
     "text": [
      "b'<?xml version=\"1.0\" encoding=\"UTF-8\" ?>\\n<!DOCTYPE eInfoResult PUBLIC \"-//NLM//DTD einfo 20190110//EN\" \"https://eutils.ncbi.nlm.nih.gov/eutils/dtd/20190110/einfo.dtd\">\\n<eInfoResult>\\n<DbList>\\n\\n\\t<DbName>pubmed</DbName>\\n\\t<DbName>protein</DbName>\\n\\t<DbName>nuccore</DbName>\\n\\t<DbName>ipg</DbName>\\n\\t<DbName>nucleotide</DbName>\\n\\t<DbName>structure</DbName>\\n\\t<DbName>genome</DbName>\\n\\t<DbName>annotinfo</DbName>\\n\\t<DbName>assembly</DbName>\\n\\t<DbName>bioproject</DbName>\\n\\t<DbName>biosample</DbName>\\n\\t<DbName>blastdbinfo</DbName>\\n\\t<DbName>books</DbName>\\n\\t<DbName>cdd</DbName>\\n\\t<DbName>clinvar</DbName>\\n\\t<DbName>gap</DbName>\\n\\t<DbName>gapplus</DbName>\\n\\t<DbName>grasp</DbName>\\n\\t<DbName>dbvar</DbName>\\n\\t<DbName>gene</DbName>\\n\\t<DbName>gds</DbName>\\n\\t<DbName>geoprofiles</DbName>\\n\\t<DbName>homologene</DbName>\\n\\t<DbName>medgen</DbName>\\n\\t<DbName>mesh</DbName>\\n\\t<DbName>ncbisearch</DbName>\\n\\t<DbName>nlmcatalog</DbName>\\n\\t<DbName>omim</DbName>\\n\\t<DbName>orgtrack</DbName>\\n\\t<DbName>pmc</DbName>\\n\\t<DbName>popset</DbName>\\n\\t<DbName>proteinclusters</DbName>\\n\\t<DbName>pcassay</DbName>\\n\\t<DbName>protfam</DbName>\\n\\t<DbName>biosystems</DbName>\\n\\t<DbName>pccompound</DbName>\\n\\t<DbName>pcsubstance</DbName>\\n\\t<DbName>seqannot</DbName>\\n\\t<DbName>snp</DbName>\\n\\t<DbName>sra</DbName>\\n\\t<DbName>taxonomy</DbName>\\n\\t<DbName>biocollections</DbName>\\n\\t<DbName>gtr</DbName>\\n</DbList>\\n\\n</eInfoResult>\\n'\n"
     ]
    }
   ],
   "source": [
    "from Bio import Entrez\n",
    "Entrez.email = \"localuser@localhost.localdomain\" \n",
    "\n",
    "handle = Entrez.einfo()\n",
    "print(handle.read())\n",
    "handle.close()"
   ]
  },
  {
   "cell_type": "code",
   "execution_count": null,
   "id": "dc8e5cb0-e118-4c08-85c9-2df2f30e29d7",
   "metadata": {},
   "outputs": [],
   "source": []
  },
  {
   "cell_type": "code",
   "execution_count": 2,
   "id": "e37e5903-0988-471a-84cb-625b81565c4d",
   "metadata": {},
   "outputs": [
    {
     "name": "stdout",
     "output_type": "stream",
     "text": [
      "{'Count': '3343747', 'RetMax': '20', 'RetStart': '0', 'IdList': ['1562385986', '1562375048', '947370398', '947370296', '947370289', '947370282', '947370274', '947370269', '947370250', '947370233', '947370203', '947370184', '947370181', '947370178', '947370175', '947370168', '947370163', '947370157', '947370152', '947370129'], 'TranslationSet': [{'From': 'Arabidopsis thaliana', 'To': '\"Arabidopsis thaliana\"[Organism] OR Arabidopsis thaliana[All Fields]'}], 'TranslationStack': [{'Term': '\"Arabidopsis thaliana\"[Organism]', 'Field': 'Organism', 'Count': '2700311', 'Explode': 'Y'}, {'Term': 'Arabidopsis thaliana[All Fields]', 'Field': 'All Fields', 'Count': '3343747', 'Explode': 'N'}, 'OR', 'GROUP'], 'QueryTranslation': '\"Arabidopsis thaliana\"[Organism] OR Arabidopsis thaliana[All Fields]'}\n"
     ]
    }
   ],
   "source": [
    "from Bio import Entrez\n",
    "Entrez.email = \"localuser@localhost.localdomain\"\n",
    "\n",
    "handle = Entrez.esearch(db=\"nuccore\", term=\"Arabidopsis thaliana\")\n",
    "record = Entrez.read(handle)\n",
    "print(record)\n",
    "handle.close()"
   ]
  },
  {
   "cell_type": "code",
   "execution_count": null,
   "id": "322d190b-2fad-448c-8627-2a1084f7fb39",
   "metadata": {},
   "outputs": [],
   "source": []
  },
  {
   "cell_type": "code",
   "execution_count": 3,
   "id": "69887a4b-aca8-4597-9472-b4242eeff942",
   "metadata": {},
   "outputs": [
    {
     "name": "stdout",
     "output_type": "stream",
     "text": [
      "{'Count': '70', 'RetMax': '20', 'RetStart': '0', 'IdList': ['2500000005', '2500000003', '2500000002', '2019794667', '2019756694', '206581811', '206581809', '1063742668', '1063732627', '1063729771', '1063729770', '1063720672', '1063720671', '1063718085', '1063717301', '1063705118', '1063705116', '1063705114', '1063704470', '1063702981'], 'TranslationSet': [{'From': 'Arabidopsis thaliana', 'To': '\"Arabidopsis thaliana\"[Organism] OR Arabidopsis thaliana[All Fields]'}], 'TranslationStack': [{'Term': '\"Arabidopsis thaliana\"[Organism]', 'Field': 'Organism', 'Count': '2700311', 'Explode': 'Y'}, {'Term': 'Arabidopsis thaliana[All Fields]', 'Field': 'All Fields', 'Count': '3343747', 'Explode': 'N'}, 'OR', 'GROUP', {'Term': 'LFY[All Fields]', 'Field': 'All Fields', 'Count': '7318', 'Explode': 'N'}, 'AND', 'GROUP'], 'QueryTranslation': '(\"Arabidopsis thaliana\"[Organism] OR Arabidopsis thaliana[All Fields]) AND LFY[All Fields]'}\n"
     ]
    }
   ],
   "source": [
    "from Bio import Entrez\n",
    "Entrez.email = \"localuser@localhost.localdomain\"\n",
    "\n",
    "handle = Entrez.esearch(db=\"nuccore\", term=\"Arabidopsis thaliana LFY\")\n",
    "record = Entrez.read(handle)\n",
    "print(record)\n",
    "handle.close()"
   ]
  },
  {
   "cell_type": "code",
   "execution_count": null,
   "id": "0352844d-7416-4557-8451-0a4d1daf6ee9",
   "metadata": {},
   "outputs": [],
   "source": []
  },
  {
   "cell_type": "code",
   "execution_count": 4,
   "id": "b8a3d050-a5e2-4113-a4a6-a17fb7fac5f6",
   "metadata": {},
   "outputs": [
    {
     "name": "stdout",
     "output_type": "stream",
     "text": [
      "LOCUS       NM_001345500            1378 bp    mRNA    linear   PLN 14-FEB-2019\n",
      "DEFINITION  Arabidopsis thaliana floral meristem identity control protein LEAFY\n",
      "            (LFY) (LFY), mRNA.\n",
      "ACCESSION   NM_001345500\n",
      "VERSION     NM_001345500.1\n",
      "DBLINK      BioProject: PRJNA116\n",
      "            BioSample: SAMN03081427\n",
      "KEYWORDS    RefSeq.\n",
      "SOURCE      Arabidopsis thaliana (thale cress)\n",
      "  ORGANISM  Arabidopsis thaliana\n",
      "            Eukaryota; Viridiplantae; Streptophyta; Embryophyta; Tracheophyta;\n",
      "            Spermatophyta; Magnoliopsida; eudicotyledons; Gunneridae;\n",
      "            Pentapetalae; rosids; malvids; Brassicales; Brassicaceae;\n",
      "            Camelineae; Arabidopsis.\n",
      "REFERENCE   1  (bases 1 to 1378)\n",
      "  AUTHORS   Tabata,S., Kaneko,T., Nakamura,Y., Kotani,H., Kato,T., Asamizu,E.,\n",
      "            Miyajima,N., Sasamoto,S., Kimura,T., Hosouchi,T., Kawashima,K.,\n",
      "            Kohara,M., Matsumoto,M., Matsuno,A., Muraki,A., Nakayama,S.,\n",
      "            Nakazaki,N., Naruo,K., Okumura,S., Shinpo,S., Takeuchi,C., Wada,T.,\n",
      "            Watanabe,A., Yamada,M., Yasuda,M., Sato,S., de la Bastide,M.,\n",
      "            Huang,E., Spiegel,L., Gnoj,L., O'Shaughnessy,A., Preston,R.,\n",
      "            Habermann,K., Murray,J., Johnson,D., Rohlfing,T., Nelson,J.,\n",
      "            Stoneking,T., Pepin,K., Spieth,J., Sekhon,M., Armstrong,J.,\n",
      "            Becker,M., Belter,E., Cordum,H., Cordes,M., Courtney,L.,\n",
      "            Courtney,W., Dante,M., Du,H., Edwards,J., Fryman,J., Haakensen,B.,\n",
      "            Lamar,E., Latreille,P., Leonard,S., Meyer,R., Mulvaney,E.,\n",
      "            Ozersky,P., Riley,A., Strowmatt,C., Wagner-McPherson,C., Wollam,A.,\n",
      "            Yoakum,M., Bell,M., Dedhia,N., Parnell,L., Shah,R., Rodriguez,M.,\n",
      "            See,L.H., Vil,D., Baker,J., Kirchoff,K., Toth,K., King,L.,\n",
      "            Bahret,A., Miller,B., Marra,M., Martienssen,R., McCombie,W.R.,\n",
      "            Wilson,R.K., Murphy,G., Bancroft,I., Volckaert,G., Wambutt,R.,\n",
      "            Dusterhoft,A., Stiekema,W., Pohl,T., Entian,K.D., Terryn,N.,\n",
      "            Hartley,N., Bent,E., Johnson,S., Langham,S.A., McCullagh,B.,\n",
      "            Robben,J., Grymonprez,B., Zimmermann,W., Ramsperger,U., Wedler,H.,\n",
      "            Balke,K., Wedler,E., Peters,S., van Staveren,M., Dirkse,W.,\n",
      "            Mooijman,P., Lankhorst,R.K., Weitzenegger,T., Bothe,G., Rose,M.,\n",
      "            Hauf,J., Berneiser,S., Hempel,S., Feldpausch,M., Lamberth,S.,\n",
      "            Villarroel,R., Gielen,J., Ardiles,W., Bents,O., Lemcke,K.,\n",
      "            Kolesov,G., Mayer,K., Rudd,S., Schoof,H., Schueller,C.,\n",
      "            Zaccaria,P., Mewes,H.W., Bevan,M. and Fransz,P.\n",
      "  CONSRTM   Kazusa DNA Research Institute; Cold Spring Harbor and Washington\n",
      "            University in St Louis Sequencing Consortium; European Union\n",
      "            Arabidopsis Genome Sequencing Consortium\n",
      "  TITLE     Sequence and analysis of chromosome 5 of the plant Arabidopsis\n",
      "            thaliana\n",
      "  JOURNAL   Nature 408 (6814), 823-826 (2000)\n",
      "   PUBMED   11130714\n",
      "REFERENCE   2  (bases 1 to 1378)\n",
      "  CONSRTM   NCBI Genome Project\n",
      "  TITLE     Direct Submission\n",
      "  JOURNAL   Submitted (14-FEB-2019) National Center for Biotechnology\n",
      "            Information, NIH, Bethesda, MD 20894, USA\n",
      "REFERENCE   3  (bases 1 to 1378)\n",
      "  AUTHORS   Krishnakumar,V., Cheng,C.-Y., Chan,A.P., Schobel,S., Kim,M.,\n",
      "            Ferlanti,E.S., Belyaeva,I., Rosen,B.D., Micklem,G., Miller,J.R.,\n",
      "            Vaughn,M. and Town,C.D.\n",
      "  TITLE     Direct Submission\n",
      "  JOURNAL   Submitted (17-MAY-2016) Plant Genomics, J. Craig Venter Institute,\n",
      "            9704 Medical Center Dr, Rockville, MD 20850, USA\n",
      "  REMARK    Protein update by submitter\n",
      "REFERENCE   4  (bases 1 to 1378)\n",
      "  AUTHORS   Swarbreck,D., Lamesch,P., Wilks,C. and Huala,E.\n",
      "  CONSRTM   TAIR\n",
      "  TITLE     Direct Submission\n",
      "  JOURNAL   Submitted (18-FEB-2011) Department of Plant Biology, Carnegie\n",
      "            Institution, 260 Panama Street, Stanford, CA, USA\n",
      "COMMENT     REVIEWED REFSEQ: This record has been curated by TAIR and Araport.\n",
      "            This record is derived from an annotated genomic sequence\n",
      "            (NC_003076).\n",
      "FEATURES             Location/Qualifiers\n",
      "     source          1..1378\n",
      "                     /organism=\"Arabidopsis thaliana\"\n",
      "                     /mol_type=\"mRNA\"\n",
      "                     /db_xref=\"taxon:3702\"\n",
      "                     /chromosome=\"5\"\n",
      "                     /ecotype=\"Columbia\"\n",
      "     gene            1..1378\n",
      "                     /gene=\"LFY\"\n",
      "                     /locus_tag=\"AT5G61850\"\n",
      "                     /gene_synonym=\"LEAFY; LEAFY 3; LFY3; MAC9.13; MAC9_13\"\n",
      "                     /note=\"Encodes transcriptional regulator that promotes the\n",
      "                     transition to flowering.Involved in floral meristem\n",
      "                     development. LFY is involved in the regulation of AP3\n",
      "                     expression, and appears to bring the F-box protein UFO to\n",
      "                     the AP3 promoter. Amino acids 46-120 define a protein\n",
      "                     domain that mediates self-interaction.\"\n",
      "                     /db_xref=\"Araport:AT5G61850\"\n",
      "                     /db_xref=\"GeneID:836307\"\n",
      "                     /db_xref=\"TAIR:AT5G61850\"\n",
      "     CDS             48..1322\n",
      "                     /gene=\"LFY\"\n",
      "                     /locus_tag=\"AT5G61850\"\n",
      "                     /gene_synonym=\"LEAFY; LEAFY 3; LFY3; MAC9.13; MAC9_13\"\n",
      "                     /codon_start=1\n",
      "                     /product=\"floral meristem identity control protein LEAFY\n",
      "                     (LFY)\"\n",
      "                     /protein_id=\"NP_001331273.1\"\n",
      "                     /db_xref=\"GeneID:836307\"\n",
      "                     /db_xref=\"Araport:AT5G61850\"\n",
      "                     /db_xref=\"TAIR:AT5G61850\"\n",
      "                     /translation=\"MDPEGFTSGLFRWNPTRALVQAPPPVPPPLQQQPVTPQTAAFGM\n",
      "                     RLGGLEGLFGPYGIRFYTAAKIAELGFTASTLVGMKDEELEEMMNSLSHIFRWELLVG\n",
      "                     ERYGIKAAVRAERRRLQEEEEEESSRRRHLLLSAAGDSGTHHALDALSQEDDWTGLSE\n",
      "                     EPVQQQDQTDAAGNNGGGGSGYWDAGQGKMKKQQQQRRRKKPMLTSVETDEDVNEGED\n",
      "                     DDGMDNGNGGSGLGTERQREHPFIVTEPGEVARGKKNGLDYLFHLYEQCREFLLQVQT\n",
      "                     IAKDRGEKCPTKVTNQVFRYAKKSGASYINKPKMRHYVHCYALHCLDEEASNALRRAF\n",
      "                     KERGENVGSWRQACYKPLVNIACRHGWDIDAVFNAHPRLSIWYVPTKLRQLCHLERNN\n",
      "                     AVAAAAALVGGISCTGSSTSGRGGCGGDDLRF\"\n",
      "ORIGIN      \n",
      "        1 agaaagagag aaaaagagag tgatagagag agagagaaaa atagattatg gatcctgaag\n",
      "       61 gtttcacgag tggcttattc cggtggaacc caacgagagc attggttcaa gcaccacctc\n",
      "      121 cggttccacc tccgctgcag caacagccgg tgacaccgca gacggctgct tttgggatgc\n",
      "      181 gacttggtgg tttagaggga ctattcggtc cgtacggtat acgtttctac acggcggcga\n",
      "      241 agatagcgga gttaggtttt acggcgagca cgcttgtggg tatgaaggac gaggagcttg\n",
      "      301 aagagatgat gaatagtctc tctcatatct ttcgttggga gcttcttgtt ggtgaacggt\n",
      "      361 acggtatcaa agctgccgtt agagctgaac ggagacgatt gcaagaagag gaggaagagg\n",
      "      421 aatcttctag acgccgtcat ttgctactct ccgccgctgg tgattccggt actcatcacg\n",
      "      481 ctcttgatgc tctctcccaa gaagatgatt ggacagggtt atctgaggaa ccggtgcagc\n",
      "      541 aacaagacca gactgatgcg gcggggaata acggcggagg aggaagtggt tactgggacg\n",
      "      601 caggtcaagg aaagatgaag aagcaacagc agcagagacg gagaaagaaa ccaatgctga\n",
      "      661 cgtcagtgga aaccgacgaa gacgtcaacg aaggtgagga tgacgacggg atggataacg\n",
      "      721 gcaacggagg tagtggtttg gggacagaga gacagaggga gcatccgttt atcgtaacgg\n",
      "      781 agcctgggga agtggcacgt ggcaaaaaga acggcttaga ttatctgttc cacttgtacg\n",
      "      841 aacaatgccg tgagttcctt cttcaggtcc agacaattgc taaagaccgt ggcgaaaaat\n",
      "      901 gccccaccaa ggtgacgaac caagtattca ggtacgcgaa gaaatcagga gcgagttaca\n",
      "      961 taaacaagcc taaaatgcga cactacgttc actgttacgc tctccactgc ctagacgaag\n",
      "     1021 aagcttcaaa tgctctcaga agagcgttta aagaacgcgg tgagaacgtt ggctcatggc\n",
      "     1081 gtcaggcttg ttacaagcca cttgtgaaca tcgcttgtcg tcatggctgg gatatagacg\n",
      "     1141 ccgtctttaa cgctcatcct cgtctctcta tttggtatgt tccaacaaag ctgcgtcagc\n",
      "     1201 tttgccattt ggagcggaac aatgcggttg ctgcggctgc ggctttagtt ggcggtatta\n",
      "     1261 gctgtaccgg atcgtcgacg tctggacgtg gtggatgcgg cggcgacgac ttgcgtttct\n",
      "     1321 agtttggttt gggtagttgt ggtttgttta gtcgttatcc taattaacta ttagtctt\n",
      "//\n",
      "\n",
      "\n"
     ]
    }
   ],
   "source": [
    "from Bio import Entrez\n",
    "Entrez.email = \"localuser@localhost.localdomain\"\n",
    "\n",
    "efetch_handle = Entrez.efetch(db=\"nuccore\", id=\"1063742668\", rettype=\"gb\", retmode=\"text\")\n",
    "gbrecord = efetch_handle.read()\n",
    "print(gbrecord)\n",
    "efetch_handle.close()"
   ]
  },
  {
   "cell_type": "code",
   "execution_count": null,
   "id": "159cb0fc-121b-42d2-9ac4-00e90c2848bf",
   "metadata": {},
   "outputs": [],
   "source": []
  },
  {
   "cell_type": "code",
   "execution_count": 5,
   "id": "e3f716d3-71f1-42e7-8913-ed3be2cfa65f",
   "metadata": {},
   "outputs": [
    {
     "name": "stdout",
     "output_type": "stream",
     "text": [
      ">NM_001345500.1 Arabidopsis thaliana floral meristem identity control protein LEAFY (LFY) (LFY), mRNA\n",
      "AGAAAGAGAGAAAAAGAGAGTGATAGAGAGAGAGAGAAAAATAGATTATGGATCCTGAAGGTTTCACGAG\n",
      "TGGCTTATTCCGGTGGAACCCAACGAGAGCATTGGTTCAAGCACCACCTCCGGTTCCACCTCCGCTGCAG\n",
      "CAACAGCCGGTGACACCGCAGACGGCTGCTTTTGGGATGCGACTTGGTGGTTTAGAGGGACTATTCGGTC\n",
      "CGTACGGTATACGTTTCTACACGGCGGCGAAGATAGCGGAGTTAGGTTTTACGGCGAGCACGCTTGTGGG\n",
      "TATGAAGGACGAGGAGCTTGAAGAGATGATGAATAGTCTCTCTCATATCTTTCGTTGGGAGCTTCTTGTT\n",
      "GGTGAACGGTACGGTATCAAAGCTGCCGTTAGAGCTGAACGGAGACGATTGCAAGAAGAGGAGGAAGAGG\n",
      "AATCTTCTAGACGCCGTCATTTGCTACTCTCCGCCGCTGGTGATTCCGGTACTCATCACGCTCTTGATGC\n",
      "TCTCTCCCAAGAAGATGATTGGACAGGGTTATCTGAGGAACCGGTGCAGCAACAAGACCAGACTGATGCG\n",
      "GCGGGGAATAACGGCGGAGGAGGAAGTGGTTACTGGGACGCAGGTCAAGGAAAGATGAAGAAGCAACAGC\n",
      "AGCAGAGACGGAGAAAGAAACCAATGCTGACGTCAGTGGAAACCGACGAAGACGTCAACGAAGGTGAGGA\n",
      "TGACGACGGGATGGATAACGGCAACGGAGGTAGTGGTTTGGGGACAGAGAGACAGAGGGAGCATCCGTTT\n",
      "ATCGTAACGGAGCCTGGGGAAGTGGCACGTGGCAAAAAGAACGGCTTAGATTATCTGTTCCACTTGTACG\n",
      "AACAATGCCGTGAGTTCCTTCTTCAGGTCCAGACAATTGCTAAAGACCGTGGCGAAAAATGCCCCACCAA\n",
      "GGTGACGAACCAAGTATTCAGGTACGCGAAGAAATCAGGAGCGAGTTACATAAACAAGCCTAAAATGCGA\n",
      "CACTACGTTCACTGTTACGCTCTCCACTGCCTAGACGAAGAAGCTTCAAATGCTCTCAGAAGAGCGTTTA\n",
      "AAGAACGCGGTGAGAACGTTGGCTCATGGCGTCAGGCTTGTTACAAGCCACTTGTGAACATCGCTTGTCG\n",
      "TCATGGCTGGGATATAGACGCCGTCTTTAACGCTCATCCTCGTCTCTCTATTTGGTATGTTCCAACAAAG\n",
      "CTGCGTCAGCTTTGCCATTTGGAGCGGAACAATGCGGTTGCTGCGGCTGCGGCTTTAGTTGGCGGTATTA\n",
      "GCTGTACCGGATCGTCGACGTCTGGACGTGGTGGATGCGGCGGCGACGACTTGCGTTTCTAGTTTGGTTT\n",
      "GGGTAGTTGTGGTTTGTTTAGTCGTTATCCTAATTAACTATTAGTCTT\n",
      "\n",
      "\n"
     ]
    }
   ],
   "source": [
    "from Bio import Entrez\n",
    "Entrez.email = \"localuser@localhost.localdomain\"\n",
    "\n",
    "efetch_handle = Entrez.efetch(db=\"nuccore\", id=\"1063742668\", rettype=\"fasta\", retmode=\"text\")\n",
    "fasta_record = efetch_handle.read()\n",
    "print(fasta_record)\n",
    "efetch_handle.close()"
   ]
  },
  {
   "cell_type": "code",
   "execution_count": null,
   "id": "54d5938b-3cb4-4c3e-b984-6a9d9d56034b",
   "metadata": {},
   "outputs": [],
   "source": []
  },
  {
   "cell_type": "code",
   "execution_count": 7,
   "id": "ee6f7511-321b-450a-af0c-70ab4c0b22cd",
   "metadata": {},
   "outputs": [
    {
     "name": "stdout",
     "output_type": "stream",
     "text": [
      "Arabidopsis thaliana LFY gene.gbk Saved\n"
     ]
    }
   ],
   "source": [
    "import os\n",
    "from Bio import Entrez\n",
    "Entrez.email = \"localuser@localhost.localdomain\"\n",
    "\n",
    "filename = \"Arabidopsis thaliana LFY gene.gbk\"\n",
    "\n",
    "if not os.path.isfile(filename):\n",
    "    efetch_handle = Entrez.efetch(db=\"nuccore\", id=\"1063742668\", rettype=\"gb\", retmode=\"text\")\n",
    "    output_file_handle = open(filename, \"w\")\n",
    "    output_file_handle.write(efetch_handle.read())\n",
    "    output_file_handle.close()\n",
    "    efetch_handle.close()\n",
    "    print((str(filename)) + \" Saved\")\n",
    "else:\n",
    "    print((str(filename)) + \" is existing. File cannot be saved!\")"
   ]
  },
  {
   "cell_type": "code",
   "execution_count": null,
   "id": "c628dec8-48aa-4e57-9707-8f495dc5e1f1",
   "metadata": {},
   "outputs": [],
   "source": []
  },
  {
   "cell_type": "code",
   "execution_count": 8,
   "id": "9e9da779-8c34-4ab7-a98e-ffd05d01b255",
   "metadata": {},
   "outputs": [
    {
     "name": "stdout",
     "output_type": "stream",
     "text": [
      "Arabidopsis thaliana LFY gene.fasta Saved\n"
     ]
    }
   ],
   "source": [
    "import os\n",
    "from Bio import Entrez\n",
    "Entrez.email = \"localuser@localhost.localdomain\"\n",
    "\n",
    "filename = \"Arabidopsis thaliana LFY gene.fasta\" \n",
    "\n",
    "if not os.path.isfile(filename):\n",
    "    efetch_handle = Entrez.efetch(db=\"nuccore\", id=\"1063742668\", rettype=\"fasta\", retmode=\"text\")\n",
    "    output_file_handle = open(filename, \"w\")\n",
    "    output_file_handle.write(efetch_handle.read())\n",
    "    output_file_handle.close()\n",
    "    efetch_handle.close()\n",
    "    print((str(filename)) + \" Saved\")\n",
    "else:\n",
    "    print((str(filename)) + \" is existing. File cannot be saved!\")"
   ]
  },
  {
   "cell_type": "code",
   "execution_count": null,
   "id": "83cf30e3-8363-4767-8005-d24c87e26681",
   "metadata": {},
   "outputs": [],
   "source": []
  },
  {
   "cell_type": "code",
   "execution_count": 10,
   "id": "03710d2b-8a4c-4551-a02a-6b7e250b16ba",
   "metadata": {},
   "outputs": [
    {
     "name": "stdout",
     "output_type": "stream",
     "text": [
      "Arabidopsis thaliana genome.gbk Saved\n"
     ]
    }
   ],
   "source": [
    "import os\n",
    "from Bio import Entrez, SeqIO\n",
    "Entrez.email = \"localuser@localhost.localdomain\"\n",
    "\n",
    "filename = \"Arabidopsis thaliana genome.gbk\"\n",
    "\n",
    "if not os.path.isfile(filename):\n",
    "\n",
    "    efetch_handle = Entrez.efetch(db=\"nuccore\", id=\"1063742668\", rettype=\"gb\", retmode=\"text\")\n",
    "    output_file_handle = open(filename, \"w\")\n",
    "    output_file_handle.write(efetch_handle.read())\n",
    "    output_file_handle.close()\n",
    "    efetch_handle.close()\n",
    "    print((str(filename)) + \" Saved\")\n",
    "else:\n",
    "    print((str(filename)) + \" is existing. File cannot be saved!\")"
   ]
  },
  {
   "cell_type": "code",
   "execution_count": null,
   "id": "6c7b1d51-da1a-4e34-8fef-6a872f3aa5e3",
   "metadata": {},
   "outputs": [],
   "source": []
  },
  {
   "cell_type": "code",
   "execution_count": 11,
   "id": "375c8d90-482d-499d-8b08-8b20f031c8b2",
   "metadata": {},
   "outputs": [
    {
     "name": "stdout",
     "output_type": "stream",
     "text": [
      ">LFY|Arabidopsis thaliana floral meristem identity control protein LEAFY (LFY) (LFY), mRNA\n",
      "ATGGATCCTGAAGGTTTCACGAGTGGCTTATTCCGGTGGAACCCAACGAGAGCATTGGTTCAAGCACCACCTCCGGTTCCACCTCCGCTGCAGCAACAGCCGGTGACACCGCAGACGGCTGCTTTTGGGATGCGACTTGGTGGTTTAGAGGGACTATTCGGTCCGTACGGTATACGTTTCTACACGGCGGCGAAGATAGCGGAGTTAGGTTTTACGGCGAGCACGCTTGTGGGTATGAAGGACGAGGAGCTTGAAGAGATGATGAATAGTCTCTCTCATATCTTTCGTTGGGAGCTTCTTGTTGGTGAACGGTACGGTATCAAAGCTGCCGTTAGAGCTGAACGGAGACGATTGCAAGAAGAGGAGGAAGAGGAATCTTCTAGACGCCGTCATTTGCTACTCTCCGCCGCTGGTGATTCCGGTACTCATCACGCTCTTGATGCTCTCTCCCAAGAAGATGATTGGACAGGGTTATCTGAGGAACCGGTGCAGCAACAAGACCAGACTGATGCGGCGGGGAATAACGGCGGAGGAGGAAGTGGTTACTGGGACGCAGGTCAAGGAAAGATGAAGAAGCAACAGCAGCAGAGACGGAGAAAGAAACCAATGCTGACGTCAGTGGAAACCGACGAAGACGTCAACGAAGGTGAGGATGACGACGGGATGGATAACGGCAACGGAGGTAGTGGTTTGGGGACAGAGAGACAGAGGGAGCATCCGTTTATCGTAACGGAGCCTGGGGAAGTGGCACGTGGCAAAAAGAACGGCTTAGATTATCTGTTCCACTTGTACGAACAATGCCGTGAGTTCCTTCTTCAGGTCCAGACAATTGCTAAAGACCGTGGCGAAAAATGCCCCACCAAGGTGACGAACCAAGTATTCAGGTACGCGAAGAAATCAGGAGCGAGTTACATAAACAAGCCTAAAATGCGACACTACGTTCACTGTTACGCTCTCCACTGCCTAGACGAAGAAGCTTCAAATGCTCTCAGAAGAGCGTTTAAAGAACGCGGTGAGAACGTTGGCTCATGGCGTCAGGCTTGTTACAAGCCACTTGTGAACATCGCTTGTCGTCATGGCTGGGATATAGACGCCGTCTTTAACGCTCATCCTCGTCTCTCTATTTGGTATGTTCCAACAAAGCTGCGTCAGCTTTGCCATTTGGAGCGGAACAATGCGGTTGCTGCGGCTGCGGCTTTAGTTGGCGGTATTAGCTGTACCGGATCGTCGACGTCTGGACGTGGTGGATGCGGCGGCGACGACTTGCGTTTCTAG\n"
     ]
    }
   ],
   "source": [
    "GoI = \"LFY\" \n",
    "\n",
    "for genome in SeqIO.parse(\"Arabidopsis thaliana genome.gbk\",\"genbank\"):\n",
    "    for gene in genome.features:\n",
    "        if gene.type != \"CDS\":\n",
    "            continue\n",
    "        if \"gene\" not in gene.qualifiers:\n",
    "            continue\n",
    "        if GoI not in gene.qualifiers[\"gene\"][0]: \n",
    "            continue\n",
    "        gene_seq = gene.extract(genome.seq)\n",
    "\n",
    "GoI_fasta = \">%s|%s\\n%s\" % (GoI, genome.description, gene_seq)\n",
    "print(GoI_fasta)"
   ]
  },
  {
   "cell_type": "code",
   "execution_count": null,
   "id": "fe48f55b-f940-4478-a252-bed727f6e872",
   "metadata": {},
   "outputs": [],
   "source": []
  },
  {
   "cell_type": "code",
   "execution_count": 12,
   "id": "4fe1f195-e390-4020-8ca0-ea93e178f27c",
   "metadata": {},
   "outputs": [],
   "source": [
    "from Bio import SeqIO\n",
    "\n",
    "GoI = \"LFY\" \n",
    "\n",
    "for genome in SeqIO.parse(\"Arabidopsis thaliana genome.gbk\",\"genbank\"):\n",
    "    for gene in genome.features:\n",
    "        if gene.type != \"CDS\":\n",
    "            continue\n",
    "        if \"gene\" not in gene.qualifiers:\n",
    "            continue\n",
    "        if GoI not in gene.qualifiers[\"gene\"][0]: \n",
    "            continue\n",
    "        gene_seq = gene.extract(genome.seq)\n",
    "\n",
    "GoI_fasta = \">%s|%s\\n%s\" % (GoI, genome.description, gene_seq)\n",
    "with open(\"GoI_fasta.fasta\",\"w\") as f:\n",
    "    f.write(GoI_fasta)"
   ]
  },
  {
   "cell_type": "code",
   "execution_count": null,
   "id": "aa68021c-c08a-4d8b-ae3d-d71cd83234a0",
   "metadata": {},
   "outputs": [],
   "source": []
  }
 ],
 "metadata": {
  "kernelspec": {
   "display_name": "Python 3 (ipykernel)",
   "language": "python",
   "name": "python3"
  },
  "language_info": {
   "codemirror_mode": {
    "name": "ipython",
    "version": 3
   },
   "file_extension": ".py",
   "mimetype": "text/x-python",
   "name": "python",
   "nbconvert_exporter": "python",
   "pygments_lexer": "ipython3",
   "version": "3.9.7"
  }
 },
 "nbformat": 4,
 "nbformat_minor": 5
}
